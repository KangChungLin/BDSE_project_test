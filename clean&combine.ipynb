{
 "cells": [
  {
   "cell_type": "code",
   "execution_count": null,
   "metadata": {},
   "outputs": [],
   "source": [
    "# 這個cell是測試用 可以不用跑\n",
    "import pandas as pd\n",
    "import re\n",
    "# read file\n",
    "df = pd.read_csv('csv/mobile01.csv')\n",
    "# r'[^\\u4e00-\\u9fa5\\u0030-\\u0039\\u0041-\\u005a\\u0061-\\u007a]'\n",
    "# ^ 排除\n",
    "# \\u4e00-\\u9fa5 中文\n",
    "# \\u0041-\\u005a\\u0061-\\u007a 英文\n",
    "# \\u0030-\\u0039 數字\n",
    "# ,。:?!; 標點符號\n",
    "content = df['Content'][5]\n",
    "content = re.sub(r'[^\\u4e00-\\u9fa5]','',content)    # 只保留中文字\n",
    "#content = re.sub(r'[^\\u4e00-\\u9fa5\\u0041-\\u005a\\u0061-\\u007a\\u0030-\\u0039]','',content)    # 保留中文 英文 數字\n",
    "#content = re.sub(r'[^\\u4e00-\\u9fa5,。:?!;]','',content)  # 保留中文 標點符號\n",
    "content"
   ]
  },
  {
   "cell_type": "code",
   "execution_count": null,
   "metadata": {},
   "outputs": [],
   "source": [
    "# clean data\n",
    "import pandas as pd\n",
    "import re\n",
    "\n",
    "# read file\n",
    "df = pd.read_csv('csv/mobile01.csv')\n",
    "\n",
    "def clean_content(df):\n",
    "    # 'Content'是要清理的欄位名稱(colname) 若欄位名稱不一樣 要修改\n",
    "    content = df['Content']\n",
    "    \n",
    "    #下面是清理跟內文無關的文字 像是作者資訊 延伸閱讀等等 \n",
    "    #content = content.split('作者簡介')[0].split('※')[0].split('小檔案')[0].split('書籍簡介')[0].split('更多「')[0].split('延伸閱讀')[0].replace('圖片放大','')\n",
    "    \n",
    "    #只保留中文字\n",
    "    content = re.sub(r'[^\\u4e00-\\u9fa5]','',df[\"Content\"])\n",
    "    \n",
    "    return content\n",
    "\n",
    "# 一次清理整條column，並回存到原來位置\n",
    "df['Content'] = df.apply(clean_content,axis=1)"
   ]
  },
  {
   "cell_type": "code",
   "execution_count": null,
   "metadata": {},
   "outputs": [],
   "source": [
    "# save files\n",
    "# 另存新的檔案 保留原始資料 不要把原始資料覆蓋掉\n",
    "df.to_csv('businessweekly/weekly1.csv', index=False)"
   ]
  },
  {
   "cell_type": "code",
   "execution_count": 16,
   "metadata": {},
   "outputs": [],
   "source": [
    "# combine csv files\n",
    "# 一個網站一個csv檔\n",
    "from os import listdir\n",
    "import pandas as pd\n",
    "\n",
    "# all filenames in same folder \n",
    "file_dir = './mobile01/'\n",
    "file_list = []\n",
    "for name in listdir(file_dir):\n",
    "    file_list.append(file_dir+name)\n",
    "#print(file_list)\n",
    "\n",
    "# read all files in same folder \n",
    "df_list = [] \n",
    "for path in file_list:\n",
    "    df = pd.read_csv(path)\n",
    "#    print(df.shape)\n",
    "    df_list.append(df)\n",
    "df_all = pd.concat(df_list,ignore_index = False)\n",
    "#print(df_all.shape)\n",
    "\n",
    "# save files\n",
    "df.to_csv('./mobile01/mobile01_all.csv.csv', index=False)"
   ]
  }
 ],
 "metadata": {
  "kernelspec": {
   "display_name": "Python 3",
   "language": "python",
   "name": "python3"
  },
  "language_info": {
   "codemirror_mode": {
    "name": "ipython",
    "version": 3
   },
   "file_extension": ".py",
   "mimetype": "text/x-python",
   "name": "python",
   "nbconvert_exporter": "python",
   "pygments_lexer": "ipython3",
   "version": "3.7.7"
  }
 },
 "nbformat": 4,
 "nbformat_minor": 4
}
