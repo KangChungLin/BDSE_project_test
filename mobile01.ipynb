{
 "cells": [
  {
   "cell_type": "code",
   "execution_count": 31,
   "metadata": {},
   "outputs": [],
   "source": [
    "import requests\n",
    "from bs4 import BeautifulSoup\n",
    "import re\n",
    "import json\n",
    "import pandas as pd\n",
    "\n",
    "urls = []\n",
    "\n",
    "\n",
    "def get_urls():\n",
    "    for i in range(1000,2000):\n",
    "        try:\n",
    "            res = requests.get(f'https://www.mobile01.com/topiclist.php?f=291&p={i}', headers={'User-Agent': 'Mozilla/5.0'})\n",
    "            soup = BeautifulSoup(res.text,'html.parser')\n",
    "            a_s = soup.select('div.c-listTableTd__title > a')\n",
    "            for a in a_s:\n",
    "                if re.match('^topicdetail',a.get('href')):\n",
    "                    urls.append(a.get('href'))\n",
    "            \n",
    "#            break\n",
    "        except:\n",
    "            print('Error')\n",
    "            print(f'https://www.mobile01.com/topiclist.php?f=291&p={i}')\n",
    "            break\n",
    "\n",
    "\n",
    "url_list = []\n",
    "title_list = []\n",
    "author_list = []\n",
    "date_list = []\n",
    "content_list = []\n",
    "\n",
    "def get_content():\n",
    "\n",
    "    for url in urls:\n",
    "        try:\n",
    "            res = requests.get('https://www.mobile01.com/'+url, headers={'User-Agent': 'Mozilla/5.0'})\n",
    "            soup = BeautifulSoup(res.text,'html.parser')\n",
    "            url_list.append(url)\n",
    "\n",
    "            try:\n",
    "                date_list.append(soup.select_one('div.l-navigation__item.is-dockingHide > ul > li > span').text)\n",
    "            except:\n",
    "                date_list.append('')\n",
    "            try:\n",
    "                title_list.append(soup.select_one('h1.t2').text)\n",
    "            except:\n",
    "                title_list.append('')\n",
    "            try:\n",
    "                author_list.append(soup.select_one('div.c-authorInfo__id > a').text)\n",
    "            except:\n",
    "                author_list.append('')\n",
    "            try:\n",
    "                content_list.append(soup.select_one('article > div').text)\n",
    "            except:\n",
    "                content_list.append('')\n",
    "\n",
    "\n",
    "\n",
    "        except:\n",
    "            print(url)\n",
    "\n",
    "def save_csv():            \n",
    "    pd_store= pd.DataFrame(columns = ['URL','Date','Title','Author','Content'])\n",
    "    pd_store['URL'] = url_list\n",
    "    pd_store['Date'] = date_list\n",
    "    pd_store['Title'] = title_list\n",
    "    pd_store['Author'] = author_list\n",
    "    pd_store['Content'] = content_list\n",
    "\n",
    "    pd_store.to_csv('mobile01_2.csv', index=False)\n",
    "    \n",
    "# main\n",
    "get_urls()\n",
    "get_content()\n",
    "save_csv()"
   ]
  },
  {
   "cell_type": "code",
   "execution_count": 28,
   "metadata": {},
   "outputs": [],
   "source": [
    "urls = pd.read_csv('mobile01_urls.csv')['URL']"
   ]
  },
  {
   "cell_type": "code",
   "execution_count": 29,
   "metadata": {},
   "outputs": [
    {
     "data": {
      "text/plain": [
       "0        topicdetail.php?f=291&t=5775819\n",
       "1        topicdetail.php?f=291&t=4369995\n",
       "2        topicdetail.php?f=291&t=5994635\n",
       "3        topicdetail.php?f=291&t=5861631\n",
       "4        topicdetail.php?f=291&t=6151367\n",
       "                      ...               \n",
       "29967    topicdetail.php?f=291&t=5060717\n",
       "29968    topicdetail.php?f=291&t=5054296\n",
       "29969     topicdetail.php?f=291&t=448373\n",
       "29970    topicdetail.php?f=291&t=5059721\n",
       "29971    topicdetail.php?f=291&t=5057515\n",
       "Name: URL, Length: 29972, dtype: object"
      ]
     },
     "execution_count": 29,
     "metadata": {},
     "output_type": "execute_result"
    }
   ],
   "source": [
    "urls"
   ]
  },
  {
   "cell_type": "code",
   "execution_count": 30,
   "metadata": {},
   "outputs": [],
   "source": [
    "import requests\n",
    "from bs4 import BeautifulSoup\n",
    "import re\n",
    "import json\n",
    "import pandas as pd\n",
    "\n",
    "urls = pd.read_csv('mobile01_urls.csv')['URL']\n",
    "\n",
    "\n",
    "url_list = []\n",
    "title_list = []\n",
    "author_list = []\n",
    "date_list = []\n",
    "content_list = []\n",
    "\n",
    "def get_content():\n",
    "\n",
    "    for url in urls:\n",
    "        try:\n",
    "            res = requests.get('https://www.mobile01.com/'+url, headers={'User-Agent': 'Mozilla/5.0'})\n",
    "            soup = BeautifulSoup(res.text,'html.parser')\n",
    "            url_list.append(url)\n",
    "\n",
    "            try:\n",
    "                date_list.append(soup.select_one('div.l-navigation__item.is-dockingHide > ul > li > span').text)\n",
    "            except:\n",
    "                date_list.append('')\n",
    "            try:\n",
    "                title_list.append(soup.select_one('h1.t2').text)\n",
    "            except:\n",
    "                title_list.append('')\n",
    "            try:\n",
    "                author_list.append(soup.select_one('div.c-authorInfo__id > a').text)\n",
    "            except:\n",
    "                author_list.append('')\n",
    "            try:\n",
    "                content_list.append(soup.select_one('article > div').text)\n",
    "            except:\n",
    "                content_list.append('')\n",
    "\n",
    "\n",
    "\n",
    "        except:\n",
    "            print(url)\n",
    "\n",
    "def save_csv():            \n",
    "    pd_store= pd.DataFrame(columns = ['URL','Date','Title','Author','Content'])\n",
    "    pd_store['URL'] = url_list\n",
    "    pd_store['Date'] = date_list\n",
    "    pd_store['Title'] = title_list\n",
    "    pd_store['Author'] = author_list\n",
    "    pd_store['Content'] = content_list\n",
    "\n",
    "    pd_store.to_csv('mobile01.csv', index=False)\n",
    "    \n",
    "# main\n",
    "get_content()\n",
    "save_csv()"
   ]
  },
  {
   "cell_type": "code",
   "execution_count": 23,
   "metadata": {},
   "outputs": [
    {
     "data": {
      "text/plain": [
       "29972"
      ]
     },
     "execution_count": 23,
     "metadata": {},
     "output_type": "execute_result"
    }
   ],
   "source": [
    "len(urls)"
   ]
  },
  {
   "cell_type": "code",
   "execution_count": 24,
   "metadata": {},
   "outputs": [],
   "source": [
    "urls_files = pd.DataFrame(columns = ['URL'])\n",
    "urls_files['URL'] = urls\n",
    "urls_files.to_csv('mobile01_urls.csv', index=False)"
   ]
  },
  {
   "cell_type": "code",
   "execution_count": 21,
   "metadata": {},
   "outputs": [
    {
     "data": {
      "text/html": [
       "<div>\n",
       "<style scoped>\n",
       "    .dataframe tbody tr th:only-of-type {\n",
       "        vertical-align: middle;\n",
       "    }\n",
       "\n",
       "    .dataframe tbody tr th {\n",
       "        vertical-align: top;\n",
       "    }\n",
       "\n",
       "    .dataframe thead th {\n",
       "        text-align: right;\n",
       "    }\n",
       "</style>\n",
       "<table border=\"1\" class=\"dataframe\">\n",
       "  <thead>\n",
       "    <tr style=\"text-align: right;\">\n",
       "      <th></th>\n",
       "      <th>URL</th>\n",
       "      <th>Date</th>\n",
       "      <th>Title</th>\n",
       "      <th>Author</th>\n",
       "      <th>Content</th>\n",
       "    </tr>\n",
       "  </thead>\n",
       "  <tbody>\n",
       "    <tr>\n",
       "      <th>0</th>\n",
       "      <td>topicdetail.php?f=291&amp;t=5775819</td>\n",
       "      <td>2019-04-23 15:02</td>\n",
       "      <td>[公告] 數位銀行/電子支付「分享碼」、「折扣碼」統一集中討論處。</td>\n",
       "      <td>\\n                    Mobile01系統服務員\\n         ...</td>\n",
       "      <td>\\n                                各位 投資理財 版的會員...</td>\n",
       "    </tr>\n",
       "  </tbody>\n",
       "</table>\n",
       "</div>"
      ],
      "text/plain": [
       "                               URL              Date  \\\n",
       "0  topicdetail.php?f=291&t=5775819  2019-04-23 15:02   \n",
       "\n",
       "                               Title  \\\n",
       "0  [公告] 數位銀行/電子支付「分享碼」、「折扣碼」統一集中討論處。   \n",
       "\n",
       "                                              Author  \\\n",
       "0  \\n                    Mobile01系統服務員\\n         ...   \n",
       "\n",
       "                                             Content  \n",
       "0  \\n                                各位 投資理財 版的會員...  "
      ]
     },
     "execution_count": 21,
     "metadata": {},
     "output_type": "execute_result"
    }
   ],
   "source": [
    "pd.read_csv('test.csv')"
   ]
  },
  {
   "cell_type": "code",
   "execution_count": 19,
   "metadata": {},
   "outputs": [
    {
     "data": {
      "text/plain": [
       "['topicdetail.php?f=291&t=5775819',\n",
       " 'topicdetail.php?f=291&t=4369995',\n",
       " 'topicdetail.php?f=291&t=5861631',\n",
       " 'topicdetail.php?f=291&t=6151367',\n",
       " 'topicdetail.php?f=291&t=6109472',\n",
       " 'topicdetail.php?f=291&t=6148060',\n",
       " 'topicdetail.php?f=291&t=5472043',\n",
       " 'topicdetail.php?f=291&t=6150150',\n",
       " 'topicdetail.php?f=291&t=6151381',\n",
       " 'topicdetail.php?f=291&t=6151425',\n",
       " 'topicdetail.php?f=291&t=6151464',\n",
       " 'topicdetail.php?f=291&t=6144176',\n",
       " 'topicdetail.php?f=291&t=5975588',\n",
       " 'topicdetail.php?f=291&t=6151448',\n",
       " 'topicdetail.php?f=291&t=6149483',\n",
       " 'topicdetail.php?f=291&t=6146914',\n",
       " 'topicdetail.php?f=291&t=6146234',\n",
       " 'topicdetail.php?f=291&t=4052490',\n",
       " 'topicdetail.php?f=291&t=6151417',\n",
       " 'topicdetail.php?f=291&t=6151439',\n",
       " 'topicdetail.php?f=291&t=6151394',\n",
       " 'topicdetail.php?f=291&t=6121812',\n",
       " 'topicdetail.php?f=291&t=5768508',\n",
       " 'topicdetail.php?f=291&t=6137305',\n",
       " 'topicdetail.php?f=291&t=6151064',\n",
       " 'topicdetail.php?f=291&t=6135256',\n",
       " 'topicdetail.php?f=291&t=6151369',\n",
       " 'topicdetail.php?f=291&t=6150827',\n",
       " 'topicdetail.php?f=291&t=5688533',\n",
       " 'topicdetail.php?f=291&t=6054421',\n",
       " 'topicdetail.php?f=291&t=5799432',\n",
       " 'topicdetail.php?f=291&t=6150006']"
      ]
     },
     "execution_count": 19,
     "metadata": {},
     "output_type": "execute_result"
    }
   ],
   "source": [
    "urls"
   ]
  },
  {
   "cell_type": "code",
   "execution_count": 14,
   "metadata": {},
   "outputs": [],
   "source": [
    "res = requests.get('https://www.mobile01.com/topiclist.php?f=291&p=2', headers={'User-Agent': 'Mozilla/5.0'})"
   ]
  },
  {
   "cell_type": "code",
   "execution_count": 15,
   "metadata": {},
   "outputs": [
    {
     "data": {
      "text/plain": [
       "<Response [200]>"
      ]
     },
     "execution_count": 15,
     "metadata": {},
     "output_type": "execute_result"
    }
   ],
   "source": [
    "res"
   ]
  }
 ],
 "metadata": {
  "kernelspec": {
   "display_name": "Python 3",
   "language": "python",
   "name": "python3"
  },
  "language_info": {
   "codemirror_mode": {
    "name": "ipython",
    "version": 3
   },
   "file_extension": ".py",
   "mimetype": "text/x-python",
   "name": "python",
   "nbconvert_exporter": "python",
   "pygments_lexer": "ipython3",
   "version": "3.7.7"
  }
 },
 "nbformat": 4,
 "nbformat_minor": 4
}
