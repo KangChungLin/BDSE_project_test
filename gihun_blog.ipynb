{
 "cells": [
  {
   "cell_type": "code",
   "execution_count": 14,
   "metadata": {},
   "outputs": [],
   "source": [
    "import requests\n",
    "from bs4 import BeautifulSoup\n",
    "import re\n",
    "import json\n",
    "import pandas as pd\n",
    "\n",
    "blog_urls = []\n",
    "\n",
    "\n",
    "def get_blogs():\n",
    "    for i in range(1,41):\n",
    "        try:\n",
    "            res = requests.get(f'http://blog.cnyes.com/SearchBlog.aspx?Purpose=blog&ClassifyId=24&PageIndex={i}')\n",
    "            soup = BeautifulSoup(res.text,'html.parser')\n",
    "            a_s = soup.select_one('table.list01')\n",
    "            a_s = a_s.select('td:nth-child(2) > a:nth-child(1)')\n",
    "#            print(a_s)\n",
    "            for a in a_s:\n",
    "                blog_urls.append(a.get('href'))\n",
    "            \n",
    "#            break\n",
    "        except:\n",
    "            print('Error')\n",
    "            print(f'http://blog.cnyes.com/SearchBlog.aspx?Purpose=blog&ClassifyId=24&PageIndex={i}')\n",
    "            break\n",
    "\n",
    "get_blogs()"
   ]
  },
  {
   "cell_type": "code",
   "execution_count": 15,
   "metadata": {},
   "outputs": [],
   "source": [
    "urls_files = pd.DataFrame(columns = ['URL'])\n",
    "urls_files['URL'] = blog_urls\n",
    "urls_files.to_csv('gihun_blog_urls.csv', index=False)"
   ]
  },
  {
   "cell_type": "code",
   "execution_count": 2,
   "metadata": {},
   "outputs": [],
   "source": [
    "import pandas as pd\n",
    "blog_urls = pd.read_csv('gihun_blog_urls.csv')['URL']"
   ]
  },
  {
   "cell_type": "code",
   "execution_count": 1,
   "metadata": {},
   "outputs": [
    {
     "name": "stdout",
     "output_type": "stream",
     "text": [
      "Error\n",
      "http://blog.cnyes.com/SearchArticle.aspx?KindId=23&PageIndex=159\n",
      "Error\n",
      "http://blog.cnyes.com/SearchArticle.aspx?KindId=23&PageIndex=332\n",
      "/My/ann122411817/article2717296\n",
      "/My/jjeff0989283862/article2716270\n",
      "/My/geowu/article2714836\n",
      "/My/family80524/article2714060\n",
      "/My/gambler_jia/article2713810\n",
      "/My/jppkk/article2712327\n",
      "/My/yuling_ut/article2709540\n",
      "/My/jeff0989283862/article2708087\n",
      "/My/jeff0989283862/article2704687\n",
      "/My/vincent9999/article2704043\n",
      "/My/ann122411817/article2703866\n",
      "/My/ann122411817/article2701427\n",
      "/My/jeff0989283862/article2700892\n"
     ]
    }
   ],
   "source": [
    "import requests\n",
    "from bs4 import BeautifulSoup\n",
    "import re\n",
    "import json\n",
    "import pandas as pd\n",
    "\n",
    "urls = []\n",
    "titles = []\n",
    "dates = []\n",
    "authors = []\n",
    "\n",
    "def get_urls():\n",
    "    for i in range(146,501):\n",
    "        try:\n",
    "            res = requests.get(f'http://blog.cnyes.com/SearchArticle.aspx?KindId=23&PageIndex={i}')\n",
    "            soup = BeautifulSoup(res.text,'html.parser')\n",
    "            tr_s = soup.select_one('table.list01')\n",
    "            tr_s = tr_s.select('tr')\n",
    "#            print(len(tr_s))\n",
    "            for tr in tr_s:\n",
    "                titles.append(tr.select_one('td:nth-child(1) > a:nth-child(4)').text)\n",
    "                dates.append(tr.select_one('span.date').text)\n",
    "                authors.append(tr.select_one('span.keywordem').text)\n",
    "                urls.append(tr.select_one('td:nth-child(1) > a:nth-child(4)').get('href'))\n",
    "            \n",
    "#            break\n",
    "        except:\n",
    "            print('Error')\n",
    "            print(f'http://blog.cnyes.com/SearchArticle.aspx?KindId=23&PageIndex={i}')\n",
    "            continue\n",
    "\n",
    "#url_list = []\n",
    "#title_list = []\n",
    "#author_list = []\n",
    "#date_list = []\n",
    "content_list = []\n",
    "\n",
    "def get_content():\n",
    "\n",
    "    for url in urls:\n",
    "        try:\n",
    "            res = requests.get('http://blog.cnyes.com'+url)\n",
    "            soup = BeautifulSoup(res.text,'html.parser')\n",
    "            content_list.append(soup.select_one('div.article').text)\n",
    "\n",
    "        except:\n",
    "            print(url)\n",
    "            content_list.append('')\n",
    "\n",
    "def save_csv():            \n",
    "    pd_store= pd.DataFrame(columns = ['URL','Date','Title','Author','Content'])\n",
    "    pd_store['URL'] = urls\n",
    "    pd_store['Date'] = dates\n",
    "    pd_store['Title'] = titles\n",
    "    pd_store['Author'] = authors\n",
    "    pd_store['Content'] = content_list\n",
    "\n",
    "    pd_store.to_csv('gihun_blog_4.csv', index=False)\n",
    "    \n",
    "# main\n",
    "get_urls()\n",
    "get_content()\n",
    "save_csv()"
   ]
  },
  {
   "cell_type": "code",
   "execution_count": 22,
   "metadata": {},
   "outputs": [
    {
     "data": {
      "text/plain": [
       "['/My/aa513499/article2723878',\n",
       " '/My/kukoc10973/article2723876',\n",
       " '/My/misteelan/article2723874',\n",
       " '/My/witness111/article2723873',\n",
       " '/My/kitty3237/article2723869',\n",
       " '/My/kitty3237/article2723868',\n",
       " '/My/lai0958294249/article2723865',\n",
       " '/My/linda0704/article2723863',\n",
       " '/My/pei098/article2723862',\n",
       " '/My/weilingg/article2723860',\n",
       " '/My/yuling_ut/article2723859',\n",
       " '/My/leejy0224/article2723858',\n",
       " '/My/jjeff0989283862/article2723857',\n",
       " '/My/jeff0989283862/article2723856',\n",
       " '/My/id238685/article2723851',\n",
       " '/My/licensediploma/article2723850',\n",
       " '/My/cmy290/article2723849',\n",
       " '/My/davidchi4402/article2723846',\n",
       " '/My/linda0704/article2723844',\n",
       " '/My/misteelan/article2723843']"
      ]
     },
     "execution_count": 22,
     "metadata": {},
     "output_type": "execute_result"
    }
   ],
   "source": [
    "urls"
   ]
  },
  {
   "cell_type": "code",
   "execution_count": 18,
   "metadata": {},
   "outputs": [
    {
     "data": {
      "text/plain": [
       "['修剪樹木',\n",
       " '0727萬家烤肉一家香，拉台積電出中小型股嗎?!合一(4743)、可成(2474)、光環(3234)',\n",
       " '吃到飽',\n",
       " '嚴選結、離婚證人,離婚協議書５００元~皆主動出示身份證與良民證',\n",
       " '衝擊縮小！6月景氣領先指標 疫情以來首度回升❤新竹大昌證券蕭雅云~股票、期貨、海外期貨及選擇權、複委',\n",
       " '衝擊縮小！6月景氣領先指標 疫情以來首度回升❤新竹大昌證券蕭雅云~股票、期貨、海外期貨及選擇權、複委',\n",
       " '台積電強大在哪？外資喊到550元驚天價！~~海期複委託優惠價大昌賴秋如',\n",
       " '資金大逃殺、生技股反彈無力 「天國一輝」通通跌停  (海期手續費促銷價~大昌劉澤慧)',\n",
       " '改寫台股紀錄！台積電走對哪一步？網友曝「2成功關鍵」 康和期貨佩君',\n",
       " '權王登高一呼、外資回頭助攻 改寫新紀錄~大昌證券廖維凌0937001538',\n",
       " '黃金價格逼近歷史高！達里歐：美中資本戰恐衝擊美元!海期手續費優惠洽詢:大昌樹林游燕玲~',\n",
       " '07/27心得分享',\n",
       " '抓到了！大同公布違法中資藏鏡人「香港聯合集團」~複委託美股,港股,日股網路下單~證.期.權手續費低價',\n",
       " '抓到了！大同公布違法中資藏鏡人「香港聯合集團」~複委託美股,港股,日股網路下單~證.期.權手續費低價',\n",
       " '台股歷史新高12686.36',\n",
       " '幫助您晉升人生勝利組~cp值超高~最能幫助您的證照',\n",
       " '7月27日吃小賠大 7月28日大小通殺嗎？',\n",
       " '109.07.27期指當沖',\n",
       " '史上最高！台股打破高懸30年的12682點紀錄 (海期手續費促銷價~大昌劉澤慧)',\n",
       " '出來了']"
      ]
     },
     "execution_count": 18,
     "metadata": {},
     "output_type": "execute_result"
    }
   ],
   "source": [
    "titles"
   ]
  },
  {
   "cell_type": "code",
   "execution_count": 19,
   "metadata": {},
   "outputs": [
    {
     "data": {
      "text/plain": [
       "['07/27 20:24',\n",
       " '07/27 19:46',\n",
       " '07/27 18:17',\n",
       " '07/27 17:20',\n",
       " '07/27 16:40',\n",
       " '07/27 16:40',\n",
       " '07/27 16:24',\n",
       " '07/27 16:18',\n",
       " '07/27 16:18',\n",
       " '07/27 15:45',\n",
       " '07/27 15:36',\n",
       " '07/27 15:31',\n",
       " '07/27 15:31',\n",
       " '07/27 15:30',\n",
       " '07/27 14:53',\n",
       " '07/27 14:44',\n",
       " '07/27 14:43',\n",
       " '07/27 13:56',\n",
       " '07/27 13:29',\n",
       " '07/27 13:17']"
      ]
     },
     "execution_count": 19,
     "metadata": {},
     "output_type": "execute_result"
    }
   ],
   "source": [
    "dates"
   ]
  },
  {
   "cell_type": "code",
   "execution_count": 20,
   "metadata": {},
   "outputs": [
    {
     "data": {
      "text/plain": [
       "['aa513499',\n",
       " '台股最前線謝明哲(亨達投顧)',\n",
       " '大帆',\n",
       " 'witness111',\n",
       " '大昌證券✿小甜心',\n",
       " '大昌證券✿小甜心',\n",
       " '大昌證期權 賴秋如',\n",
       " '大昌劉澤慧',\n",
       " '康和期貨凌佩君',\n",
       " '大昌證券廖維凌',\n",
       " '大昌樹林~燕玲',\n",
       " '股市教練',\n",
       " '大昌證券24h全天線上開戶服務+智慧下單平台+優惠價格、便宜',\n",
       " '大昌期權天后 洪紫瑜',\n",
       " '重金屬',\n",
       " 'licensediploma',\n",
       " '宋文宗一股海迷航',\n",
       " '齊大衛',\n",
       " '大昌劉澤慧',\n",
       " '大帆']"
      ]
     },
     "execution_count": 20,
     "metadata": {},
     "output_type": "execute_result"
    }
   ],
   "source": [
    "authors"
   ]
  },
  {
   "cell_type": "code",
   "execution_count": 7,
   "metadata": {},
   "outputs": [
    {
     "data": {
      "text/plain": [
       "['article2677110',\n",
       " 'article2676639',\n",
       " 'article2675161',\n",
       " 'article2674983',\n",
       " 'article2674354',\n",
       " 'article2673590',\n",
       " 'article2673380',\n",
       " 'article2673168',\n",
       " 'article2672981',\n",
       " 'article2672628']"
      ]
     },
     "execution_count": 7,
     "metadata": {},
     "output_type": "execute_result"
    }
   ],
   "source": [
    "urls"
   ]
  },
  {
   "cell_type": "code",
   "execution_count": 27,
   "metadata": {},
   "outputs": [
    {
     "data": {
      "text/plain": [
       "<Response [503]>"
      ]
     },
     "execution_count": 27,
     "metadata": {},
     "output_type": "execute_result"
    }
   ],
   "source": [
    "proxies = {\n",
    "  \"http\": None,\n",
    "  \"https\": None,\n",
    "}\n",
    "requests.get('https://www.wantgoo.com/news/list/category?Name=%E5%8F%B0%E8%82%A1&Title=%E5%8F%B0%E8%82%A1', headers={'User-Agent': 'Mozilla/5.0'}, proxies=proxies)"
   ]
  }
 ],
 "metadata": {
  "kernelspec": {
   "display_name": "Python 3",
   "language": "python",
   "name": "python3"
  },
  "language_info": {
   "codemirror_mode": {
    "name": "ipython",
    "version": 3
   },
   "file_extension": ".py",
   "mimetype": "text/x-python",
   "name": "python",
   "nbconvert_exporter": "python",
   "pygments_lexer": "ipython3",
   "version": "3.7.7"
  }
 },
 "nbformat": 4,
 "nbformat_minor": 4
}
