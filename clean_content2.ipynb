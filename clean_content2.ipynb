{
 "cells": [
  {
   "cell_type": "code",
   "execution_count": null,
   "metadata": {},
   "outputs": [],
   "source": [
    "import pandas as pd\n",
    "import re\n",
    "# read file\n",
    "df = pd.read_csv('csv/mobile01.csv')\n",
    "# r'[^\\u4e00-\\u9fa5\\u0030-\\u0039\\u0041-\\u005a\\u0061-\\u007a]'\n",
    "# ^ 排除\n",
    "# \\u4e00-\\u9fa5 中文\n",
    "# \\u0041-\\u005a\\u0061-\\u007a 英文\n",
    "# \\u0030-\\u0039 數字\n",
    "# ,。:?!; 標點符號\n",
    "content = df['Content'][5]\n",
    "content = re.sub(r'[^\\u4e00-\\u9fa5]','',content)    # 只保留中文字\n",
    "#content = re.sub(r'[^\\u4e00-\\u9fa5\\u0041-\\u005a\\u0061-\\u007a\\u0030-\\u0039]','',content)    # 保留中文 英文 數字\n",
    "#content = re.sub(r'[^\\u4e00-\\u9fa5,。:?!;]','',content)  # 保留中文 標點符號\n",
    "content"
   ]
  }
 ],
 "metadata": {
  "kernelspec": {
   "display_name": "Python 3",
   "language": "python",
   "name": "python3"
  },
  "language_info": {
   "codemirror_mode": {
    "name": "ipython",
    "version": 3
   },
   "file_extension": ".py",
   "mimetype": "text/x-python",
   "name": "python",
   "nbconvert_exporter": "python",
   "pygments_lexer": "ipython3",
   "version": "3.7.7"
  }
 },
 "nbformat": 4,
 "nbformat_minor": 4
}
