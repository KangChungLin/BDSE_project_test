{
 "cells": [
  {
   "cell_type": "code",
   "execution_count": null,
   "metadata": {},
   "outputs": [],
   "source": [
    "import requests\n",
    "from bs4 import BeautifulSoup\n",
    "import re\n",
    "import json\n",
    "import pandas as pd\n",
    "\n",
    "# file name\n",
    "df = pd.read_csv('gihunblog_url/gihun_blog_4501_urls.csv')\n",
    "\n",
    "content_list = []\n",
    "def get_content():\n",
    "    urls = df['URL']\n",
    "    count = 0\n",
    "    for url in urls:\n",
    "        try:\n",
    "            res = requests.get('http://blog.cnyes.com'+url)\n",
    "#            print(res)\n",
    "            soup = BeautifulSoup(res.text,'html.parser')\n",
    "#            print(soup)\n",
    "            content_list.append(soup.select_one('div.article').text)\n",
    "\n",
    "        except:\n",
    "            print('http://blog.cnyes.com'+url)\n",
    "            content_list.append('')\n",
    "        count +=1\n",
    "        print('處理了:',(count/len(urls))*100,'%')\n",
    "#        if count > 1:\n",
    "#            break\n",
    "def save_csv():\n",
    "    df['content'] = content_list\n",
    "    # notice file name\n",
    "    df.to_csv('gihun_blog_4500.csv', index=False)\n",
    "\n",
    "# main\n",
    "get_content()\n",
    "save_csv()"
   ]
  }
 ],
 "metadata": {
  "kernelspec": {
   "display_name": "Python 3",
   "language": "python",
   "name": "python3"
  },
  "language_info": {
   "codemirror_mode": {
    "name": "ipython",
    "version": 3
   },
   "file_extension": ".py",
   "mimetype": "text/x-python",
   "name": "python",
   "nbconvert_exporter": "python",
   "pygments_lexer": "ipython3",
   "version": "3.7.7"
  }
 },
 "nbformat": 4,
 "nbformat_minor": 4
}
